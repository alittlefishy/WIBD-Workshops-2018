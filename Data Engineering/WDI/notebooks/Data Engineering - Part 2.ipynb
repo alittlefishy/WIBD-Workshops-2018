{
 "cells": [
  {
   "cell_type": "markdown",
   "metadata": {},
   "source": [
    "# Data Transformation, Modeling and Quality"
   ]
  },
  {
   "cell_type": "markdown",
   "metadata": {},
   "source": [
    "In this notebook we'll look at how to transform the input datasets to be consumed into a Data Model."
   ]
  },
  {
   "cell_type": "markdown",
   "metadata": {},
   "source": [
    "### Step 1 - What inputs do you have?"
   ]
  },
  {
   "cell_type": "code",
   "execution_count": 1,
   "metadata": {},
   "outputs": [
    {
     "name": "stdout",
     "output_type": "stream",
     "text": [
      "WDICountry.csv\n",
      "WDIData.csv\n",
      "WDISeries.csv\n"
     ]
    }
   ],
   "source": [
    "%%bash\n",
    "ls ../data"
   ]
  },
  {
   "cell_type": "markdown",
   "metadata": {},
   "source": [
    "### Step 2 - Get your tools setup"
   ]
  },
  {
   "cell_type": "markdown",
   "metadata": {},
   "source": [
    "As part of this we will be using [PySpark](http://spark.apache.org/docs/2.1.1/api/python/index.html) to inspect the data on hand and also gather some basic details."
   ]
  },
  {
   "cell_type": "code",
   "execution_count": 2,
   "metadata": {},
   "outputs": [],
   "source": [
    "import os\n",
    "from IPython.display import display, HTML\n",
    "import pandas as pd\n",
    "\n",
    "#Locating where pyspark is installed\n",
    "# import findspark\n",
    "# findspark.init()\n",
    "import pyspark\n",
    "\n",
    "#Settings for PySpark to work\n",
    "# driver_memory = '4g'\n",
    "# num_executors = 2\n",
    "# executor_memory = '1g'\n",
    "#pyspark_submit_args = ' --driver-memory ' + driver_memory + ' --executor-memory ' + executor_memory + ' --num-executors ' + num_executors + ' pyspark-shell'\n",
    "# pyspark_submit_args = ' --driver-memory ' + driver_memory + ' pyspark-shell'\n",
    "\n",
    "#Setting the required parameters to start up PySpark\n",
    "# os.environ[\"PYSPARK_SUBMIT_ARGS\"] = pyspark_submit_args\n",
    "\n",
    "#Import Modules Needed for PySpark\n",
    "from pyspark.sql import SparkSession\n",
    "from pyspark.sql.functions import *\n",
    "from pyspark.sql.types import *"
   ]
  },
  {
   "cell_type": "code",
   "execution_count": 3,
   "metadata": {},
   "outputs": [],
   "source": [
    "#Helper for pretty formatting for Spark DataFrames\n",
    "def showDF(df, limitRows =  20, truncate = True):\n",
    "    if(truncate):\n",
    "        pd.set_option('display.max_colwidth', 50)\n",
    "    else:\n",
    "        pd.set_option('display.max_colwidth', -1)\n",
    "    pd.set_option('display.max_rows', limitRows)\n",
    "    display(df.limit(limitRows).toPandas())\n",
    "    pd.reset_option('display.max_rows')"
   ]
  },
  {
   "cell_type": "code",
   "execution_count": 4,
   "metadata": {},
   "outputs": [],
   "source": [
    "#Creating a spark session\n",
    "spark = SparkSession.builder.appName(\"Data Transformation\").getOrCreate()"
   ]
  },
  {
   "cell_type": "markdown",
   "metadata": {},
   "source": [
    "### Step 3 - Read the data\n",
    "\n",
    "We will be using the WDICountry, WDISeries and WDIData files for all the activity below."
   ]
  },
  {
   "cell_type": "code",
   "execution_count": 5,
   "metadata": {},
   "outputs": [
    {
     "data": {
      "text/plain": [
       "263"
      ]
     },
     "execution_count": 5,
     "metadata": {},
     "output_type": "execute_result"
    }
   ],
   "source": [
    "#Read the file into a Spark Data Frame\n",
    "country = spark.read.format(\"csv\") \\\n",
    "    .option(\"header\", \"true\") \\\n",
    "    .option(\"inferSchema\", \"true\") \\\n",
    "    .load(\"../data/WDICountry.csv\")\n",
    "\n",
    "country.count()"
   ]
  },
  {
   "cell_type": "code",
   "execution_count": 6,
   "metadata": {},
   "outputs": [
    {
     "data": {
      "text/plain": [
       "1593"
      ]
     },
     "execution_count": 6,
     "metadata": {},
     "output_type": "execute_result"
    }
   ],
   "source": [
    "series = spark.read.format(\"csv\") \\\n",
    "    .option(\"header\", \"true\") \\\n",
    "    .option(\"inferSchema\", \"true\") \\\n",
    "    .load(\"../data/WDISeries.csv\")\n",
    "\n",
    "series.count()"
   ]
  },
  {
   "cell_type": "code",
   "execution_count": 7,
   "metadata": {},
   "outputs": [
    {
     "data": {
      "text/plain": [
       "420024"
      ]
     },
     "execution_count": 7,
     "metadata": {},
     "output_type": "execute_result"
    }
   ],
   "source": [
    "indicators = spark.read.format(\"csv\") \\\n",
    "    .option(\"header\", \"true\") \\\n",
    "    .option(\"inferSchema\", \"true\") \\\n",
    "    .load(\"../data/WDIData.csv\")\n",
    "\n",
    "indicators.count()"
   ]
  },
  {
   "cell_type": "markdown",
   "metadata": {},
   "source": [
    "### Step 4 - Transform the data"
   ]
  },
  {
   "cell_type": "markdown",
   "metadata": {},
   "source": [
    "#### Transform the Country Dataset\n",
    "- Select the columns that we will need for our data model\n",
    "- Rename columns for data ingestion\n",
    "\n",
    "We'll be using the various operations supported for a DataFrame.  You can view the complete list [here](http://spark.apache.org/docs/2.1.1/api/python/pyspark.sql.html#pyspark.sql.DataFrame) ."
   ]
  },
  {
   "cell_type": "code",
   "execution_count": 8,
   "metadata": {},
   "outputs": [
    {
     "data": {
      "text/html": [
       "<div>\n",
       "<style scoped>\n",
       "    .dataframe tbody tr th:only-of-type {\n",
       "        vertical-align: middle;\n",
       "    }\n",
       "\n",
       "    .dataframe tbody tr th {\n",
       "        vertical-align: top;\n",
       "    }\n",
       "\n",
       "    .dataframe thead th {\n",
       "        text-align: right;\n",
       "    }\n",
       "</style>\n",
       "<table border=\"1\" class=\"dataframe\">\n",
       "  <thead>\n",
       "    <tr style=\"text-align: right;\">\n",
       "      <th></th>\n",
       "      <th>country_iso_code</th>\n",
       "      <th>wb_country_code</th>\n",
       "      <th>country_name</th>\n",
       "      <th>country_long_name</th>\n",
       "      <th>region</th>\n",
       "      <th>income_group</th>\n",
       "    </tr>\n",
       "  </thead>\n",
       "  <tbody>\n",
       "    <tr>\n",
       "      <th>0</th>\n",
       "      <td>AW</td>\n",
       "      <td>ABW</td>\n",
       "      <td>Aruba</td>\n",
       "      <td>Aruba</td>\n",
       "      <td>Latin America &amp; Caribbean</td>\n",
       "      <td>High income</td>\n",
       "    </tr>\n",
       "    <tr>\n",
       "      <th>1</th>\n",
       "      <td>AF</td>\n",
       "      <td>AFG</td>\n",
       "      <td>Afghanistan</td>\n",
       "      <td>Islamic State of Afghanistan</td>\n",
       "      <td>South Asia</td>\n",
       "      <td>Low income</td>\n",
       "    </tr>\n",
       "    <tr>\n",
       "      <th>2</th>\n",
       "      <td>AO</td>\n",
       "      <td>AGO</td>\n",
       "      <td>Angola</td>\n",
       "      <td>People's Republic of Angola</td>\n",
       "      <td>Sub-Saharan Africa</td>\n",
       "      <td>Lower middle income</td>\n",
       "    </tr>\n",
       "    <tr>\n",
       "      <th>3</th>\n",
       "      <td>AL</td>\n",
       "      <td>ALB</td>\n",
       "      <td>Albania</td>\n",
       "      <td>Republic of Albania</td>\n",
       "      <td>Europe &amp; Central Asia</td>\n",
       "      <td>Upper middle income</td>\n",
       "    </tr>\n",
       "    <tr>\n",
       "      <th>4</th>\n",
       "      <td>AD</td>\n",
       "      <td>AND</td>\n",
       "      <td>Andorra</td>\n",
       "      <td>Principality of Andorra</td>\n",
       "      <td>Europe &amp; Central Asia</td>\n",
       "      <td>High income</td>\n",
       "    </tr>\n",
       "    <tr>\n",
       "      <th>5</th>\n",
       "      <td>1A</td>\n",
       "      <td>ARB</td>\n",
       "      <td>Arab World</td>\n",
       "      <td>Arab World</td>\n",
       "      <td>None</td>\n",
       "      <td>None</td>\n",
       "    </tr>\n",
       "    <tr>\n",
       "      <th>6</th>\n",
       "      <td>AE</td>\n",
       "      <td>ARE</td>\n",
       "      <td>United Arab Emirates</td>\n",
       "      <td>United Arab Emirates</td>\n",
       "      <td>Middle East &amp; North Africa</td>\n",
       "      <td>High income</td>\n",
       "    </tr>\n",
       "    <tr>\n",
       "      <th>7</th>\n",
       "      <td>AR</td>\n",
       "      <td>ARG</td>\n",
       "      <td>Argentina</td>\n",
       "      <td>Argentine Republic</td>\n",
       "      <td>None</td>\n",
       "      <td>None</td>\n",
       "    </tr>\n",
       "    <tr>\n",
       "      <th>8</th>\n",
       "      <td>AM</td>\n",
       "      <td>ARM</td>\n",
       "      <td>Armenia</td>\n",
       "      <td>Republic of Armenia</td>\n",
       "      <td>Europe &amp; Central Asia</td>\n",
       "      <td>Lower middle income</td>\n",
       "    </tr>\n",
       "    <tr>\n",
       "      <th>9</th>\n",
       "      <td>AS</td>\n",
       "      <td>ASM</td>\n",
       "      <td>American Samoa</td>\n",
       "      <td>American Samoa</td>\n",
       "      <td>East Asia &amp; Pacific</td>\n",
       "      <td>Upper middle income</td>\n",
       "    </tr>\n",
       "    <tr>\n",
       "      <th>10</th>\n",
       "      <td>AG</td>\n",
       "      <td>ATG</td>\n",
       "      <td>Antigua and Barbuda</td>\n",
       "      <td>Antigua and Barbuda</td>\n",
       "      <td>Latin America &amp; Caribbean</td>\n",
       "      <td>High income</td>\n",
       "    </tr>\n",
       "    <tr>\n",
       "      <th>11</th>\n",
       "      <td>AU</td>\n",
       "      <td>AUS</td>\n",
       "      <td>Australia</td>\n",
       "      <td>Commonwealth of Australia</td>\n",
       "      <td>East Asia &amp; Pacific</td>\n",
       "      <td>High income</td>\n",
       "    </tr>\n",
       "    <tr>\n",
       "      <th>12</th>\n",
       "      <td>AT</td>\n",
       "      <td>AUT</td>\n",
       "      <td>Austria</td>\n",
       "      <td>Republic of Austria</td>\n",
       "      <td>Europe &amp; Central Asia</td>\n",
       "      <td>High income</td>\n",
       "    </tr>\n",
       "    <tr>\n",
       "      <th>13</th>\n",
       "      <td>AZ</td>\n",
       "      <td>AZE</td>\n",
       "      <td>Azerbaijan</td>\n",
       "      <td>Republic of Azerbaijan</td>\n",
       "      <td>Europe &amp; Central Asia</td>\n",
       "      <td>Upper middle income</td>\n",
       "    </tr>\n",
       "    <tr>\n",
       "      <th>14</th>\n",
       "      <td>BI</td>\n",
       "      <td>BDI</td>\n",
       "      <td>Burundi</td>\n",
       "      <td>Republic of Burundi</td>\n",
       "      <td>Sub-Saharan Africa</td>\n",
       "      <td>Low income</td>\n",
       "    </tr>\n",
       "    <tr>\n",
       "      <th>15</th>\n",
       "      <td>BE</td>\n",
       "      <td>BEL</td>\n",
       "      <td>Belgium</td>\n",
       "      <td>Kingdom of Belgium</td>\n",
       "      <td>Europe &amp; Central Asia</td>\n",
       "      <td>High income</td>\n",
       "    </tr>\n",
       "    <tr>\n",
       "      <th>16</th>\n",
       "      <td>BJ</td>\n",
       "      <td>BEN</td>\n",
       "      <td>Benin</td>\n",
       "      <td>Republic of Benin</td>\n",
       "      <td>Sub-Saharan Africa</td>\n",
       "      <td>Low income</td>\n",
       "    </tr>\n",
       "    <tr>\n",
       "      <th>17</th>\n",
       "      <td>BF</td>\n",
       "      <td>BFA</td>\n",
       "      <td>Burkina Faso</td>\n",
       "      <td>Burkina Faso</td>\n",
       "      <td>Sub-Saharan Africa</td>\n",
       "      <td>Low income</td>\n",
       "    </tr>\n",
       "    <tr>\n",
       "      <th>18</th>\n",
       "      <td>BD</td>\n",
       "      <td>BGD</td>\n",
       "      <td>Bangladesh</td>\n",
       "      <td>People's Republic of Bangladesh</td>\n",
       "      <td>South Asia</td>\n",
       "      <td>Lower middle income</td>\n",
       "    </tr>\n",
       "    <tr>\n",
       "      <th>19</th>\n",
       "      <td>BG</td>\n",
       "      <td>BGR</td>\n",
       "      <td>Bulgaria</td>\n",
       "      <td>Republic of Bulgaria</td>\n",
       "      <td>Europe &amp; Central Asia</td>\n",
       "      <td>Upper middle income</td>\n",
       "    </tr>\n",
       "  </tbody>\n",
       "</table>\n",
       "</div>"
      ],
      "text/plain": [
       "   country_iso_code wb_country_code          country_name  \\\n",
       "0                AW             ABW                 Aruba   \n",
       "1                AF             AFG           Afghanistan   \n",
       "2                AO             AGO                Angola   \n",
       "3                AL             ALB               Albania   \n",
       "4                AD             AND               Andorra   \n",
       "5                1A             ARB            Arab World   \n",
       "6                AE             ARE  United Arab Emirates   \n",
       "7                AR             ARG             Argentina   \n",
       "8                AM             ARM               Armenia   \n",
       "9                AS             ASM        American Samoa   \n",
       "10               AG             ATG   Antigua and Barbuda   \n",
       "11               AU             AUS             Australia   \n",
       "12               AT             AUT               Austria   \n",
       "13               AZ             AZE            Azerbaijan   \n",
       "14               BI             BDI               Burundi   \n",
       "15               BE             BEL               Belgium   \n",
       "16               BJ             BEN                 Benin   \n",
       "17               BF             BFA          Burkina Faso   \n",
       "18               BD             BGD            Bangladesh   \n",
       "19               BG             BGR              Bulgaria   \n",
       "\n",
       "                  country_long_name                      region  \\\n",
       "0                             Aruba   Latin America & Caribbean   \n",
       "1      Islamic State of Afghanistan                  South Asia   \n",
       "2       People's Republic of Angola          Sub-Saharan Africa   \n",
       "3               Republic of Albania       Europe & Central Asia   \n",
       "4           Principality of Andorra       Europe & Central Asia   \n",
       "5                        Arab World                        None   \n",
       "6              United Arab Emirates  Middle East & North Africa   \n",
       "7                Argentine Republic                        None   \n",
       "8               Republic of Armenia       Europe & Central Asia   \n",
       "9                    American Samoa         East Asia & Pacific   \n",
       "10              Antigua and Barbuda   Latin America & Caribbean   \n",
       "11        Commonwealth of Australia         East Asia & Pacific   \n",
       "12              Republic of Austria       Europe & Central Asia   \n",
       "13           Republic of Azerbaijan       Europe & Central Asia   \n",
       "14              Republic of Burundi          Sub-Saharan Africa   \n",
       "15               Kingdom of Belgium       Europe & Central Asia   \n",
       "16                Republic of Benin          Sub-Saharan Africa   \n",
       "17                     Burkina Faso          Sub-Saharan Africa   \n",
       "18  People's Republic of Bangladesh                  South Asia   \n",
       "19             Republic of Bulgaria       Europe & Central Asia   \n",
       "\n",
       "           income_group  \n",
       "0           High income  \n",
       "1            Low income  \n",
       "2   Lower middle income  \n",
       "3   Upper middle income  \n",
       "4           High income  \n",
       "5                  None  \n",
       "6           High income  \n",
       "7                  None  \n",
       "8   Lower middle income  \n",
       "9   Upper middle income  \n",
       "10          High income  \n",
       "11          High income  \n",
       "12          High income  \n",
       "13  Upper middle income  \n",
       "14           Low income  \n",
       "15          High income  \n",
       "16           Low income  \n",
       "17           Low income  \n",
       "18  Lower middle income  \n",
       "19  Upper middle income  "
      ]
     },
     "metadata": {},
     "output_type": "display_data"
    }
   ],
   "source": [
    "countryDim = country \\\n",
    "    .select(\"2-alpha code\", \"Country Code\", \"Short Name\", \"Long Name\", \"Region\", \"Income Group\") \\\n",
    "    .withColumnRenamed(\"2-alpha code\", \"country_iso_code\") \\\n",
    "    .withColumnRenamed(\"Country Code\", \"wb_country_code\") \\\n",
    "    .withColumnRenamed(\"Short Name\", \"country_name\") \\\n",
    "    .withColumnRenamed(\"Long Name\", \"country_long_name\") \\\n",
    "    .withColumnRenamed(\"Region\", \"region\") \\\n",
    "    .withColumnRenamed(\"Income Group\", \"income_group\")\n",
    "    \n",
    "showDF(countryDim)"
   ]
  },
  {
   "cell_type": "markdown",
   "metadata": {},
   "source": [
    "#### You can also do the similar transformations in sql\n",
    "Let's rename the country_name and country_long_name columns"
   ]
  },
  {
   "cell_type": "code",
   "execution_count": 9,
   "metadata": {},
   "outputs": [],
   "source": [
    "#Lets you create a view that you can use in SQL queries\n",
    "countryDim.createOrReplaceTempView(\"country\")"
   ]
  },
  {
   "cell_type": "code",
   "execution_count": 10,
   "metadata": {},
   "outputs": [
    {
     "data": {
      "text/html": [
       "<div>\n",
       "<style scoped>\n",
       "    .dataframe tbody tr th:only-of-type {\n",
       "        vertical-align: middle;\n",
       "    }\n",
       "\n",
       "    .dataframe tbody tr th {\n",
       "        vertical-align: top;\n",
       "    }\n",
       "\n",
       "    .dataframe thead th {\n",
       "        text-align: right;\n",
       "    }\n",
       "</style>\n",
       "<table border=\"1\" class=\"dataframe\">\n",
       "  <thead>\n",
       "    <tr style=\"text-align: right;\">\n",
       "      <th></th>\n",
       "      <th>country_iso_code</th>\n",
       "      <th>wb_country_code</th>\n",
       "      <th>name</th>\n",
       "      <th>long_name</th>\n",
       "      <th>region</th>\n",
       "      <th>income_group</th>\n",
       "    </tr>\n",
       "  </thead>\n",
       "  <tbody>\n",
       "    <tr>\n",
       "      <th>0</th>\n",
       "      <td>AW</td>\n",
       "      <td>ABW</td>\n",
       "      <td>Aruba</td>\n",
       "      <td>Aruba</td>\n",
       "      <td>Latin America &amp; Caribbean</td>\n",
       "      <td>High income</td>\n",
       "    </tr>\n",
       "    <tr>\n",
       "      <th>1</th>\n",
       "      <td>AF</td>\n",
       "      <td>AFG</td>\n",
       "      <td>Afghanistan</td>\n",
       "      <td>Islamic State of Afghanistan</td>\n",
       "      <td>South Asia</td>\n",
       "      <td>Low income</td>\n",
       "    </tr>\n",
       "    <tr>\n",
       "      <th>2</th>\n",
       "      <td>AO</td>\n",
       "      <td>AGO</td>\n",
       "      <td>Angola</td>\n",
       "      <td>People's Republic of Angola</td>\n",
       "      <td>Sub-Saharan Africa</td>\n",
       "      <td>Lower middle income</td>\n",
       "    </tr>\n",
       "    <tr>\n",
       "      <th>3</th>\n",
       "      <td>AL</td>\n",
       "      <td>ALB</td>\n",
       "      <td>Albania</td>\n",
       "      <td>Republic of Albania</td>\n",
       "      <td>Europe &amp; Central Asia</td>\n",
       "      <td>Upper middle income</td>\n",
       "    </tr>\n",
       "    <tr>\n",
       "      <th>4</th>\n",
       "      <td>AD</td>\n",
       "      <td>AND</td>\n",
       "      <td>Andorra</td>\n",
       "      <td>Principality of Andorra</td>\n",
       "      <td>Europe &amp; Central Asia</td>\n",
       "      <td>High income</td>\n",
       "    </tr>\n",
       "    <tr>\n",
       "      <th>5</th>\n",
       "      <td>1A</td>\n",
       "      <td>ARB</td>\n",
       "      <td>Arab World</td>\n",
       "      <td>Arab World</td>\n",
       "      <td>None</td>\n",
       "      <td>None</td>\n",
       "    </tr>\n",
       "    <tr>\n",
       "      <th>6</th>\n",
       "      <td>AE</td>\n",
       "      <td>ARE</td>\n",
       "      <td>United Arab Emirates</td>\n",
       "      <td>United Arab Emirates</td>\n",
       "      <td>Middle East &amp; North Africa</td>\n",
       "      <td>High income</td>\n",
       "    </tr>\n",
       "    <tr>\n",
       "      <th>7</th>\n",
       "      <td>AR</td>\n",
       "      <td>ARG</td>\n",
       "      <td>Argentina</td>\n",
       "      <td>Argentine Republic</td>\n",
       "      <td>None</td>\n",
       "      <td>None</td>\n",
       "    </tr>\n",
       "    <tr>\n",
       "      <th>8</th>\n",
       "      <td>AM</td>\n",
       "      <td>ARM</td>\n",
       "      <td>Armenia</td>\n",
       "      <td>Republic of Armenia</td>\n",
       "      <td>Europe &amp; Central Asia</td>\n",
       "      <td>Lower middle income</td>\n",
       "    </tr>\n",
       "    <tr>\n",
       "      <th>9</th>\n",
       "      <td>AS</td>\n",
       "      <td>ASM</td>\n",
       "      <td>American Samoa</td>\n",
       "      <td>American Samoa</td>\n",
       "      <td>East Asia &amp; Pacific</td>\n",
       "      <td>Upper middle income</td>\n",
       "    </tr>\n",
       "    <tr>\n",
       "      <th>10</th>\n",
       "      <td>AG</td>\n",
       "      <td>ATG</td>\n",
       "      <td>Antigua and Barbuda</td>\n",
       "      <td>Antigua and Barbuda</td>\n",
       "      <td>Latin America &amp; Caribbean</td>\n",
       "      <td>High income</td>\n",
       "    </tr>\n",
       "    <tr>\n",
       "      <th>11</th>\n",
       "      <td>AU</td>\n",
       "      <td>AUS</td>\n",
       "      <td>Australia</td>\n",
       "      <td>Commonwealth of Australia</td>\n",
       "      <td>East Asia &amp; Pacific</td>\n",
       "      <td>High income</td>\n",
       "    </tr>\n",
       "    <tr>\n",
       "      <th>12</th>\n",
       "      <td>AT</td>\n",
       "      <td>AUT</td>\n",
       "      <td>Austria</td>\n",
       "      <td>Republic of Austria</td>\n",
       "      <td>Europe &amp; Central Asia</td>\n",
       "      <td>High income</td>\n",
       "    </tr>\n",
       "    <tr>\n",
       "      <th>13</th>\n",
       "      <td>AZ</td>\n",
       "      <td>AZE</td>\n",
       "      <td>Azerbaijan</td>\n",
       "      <td>Republic of Azerbaijan</td>\n",
       "      <td>Europe &amp; Central Asia</td>\n",
       "      <td>Upper middle income</td>\n",
       "    </tr>\n",
       "    <tr>\n",
       "      <th>14</th>\n",
       "      <td>BI</td>\n",
       "      <td>BDI</td>\n",
       "      <td>Burundi</td>\n",
       "      <td>Republic of Burundi</td>\n",
       "      <td>Sub-Saharan Africa</td>\n",
       "      <td>Low income</td>\n",
       "    </tr>\n",
       "    <tr>\n",
       "      <th>15</th>\n",
       "      <td>BE</td>\n",
       "      <td>BEL</td>\n",
       "      <td>Belgium</td>\n",
       "      <td>Kingdom of Belgium</td>\n",
       "      <td>Europe &amp; Central Asia</td>\n",
       "      <td>High income</td>\n",
       "    </tr>\n",
       "    <tr>\n",
       "      <th>16</th>\n",
       "      <td>BJ</td>\n",
       "      <td>BEN</td>\n",
       "      <td>Benin</td>\n",
       "      <td>Republic of Benin</td>\n",
       "      <td>Sub-Saharan Africa</td>\n",
       "      <td>Low income</td>\n",
       "    </tr>\n",
       "    <tr>\n",
       "      <th>17</th>\n",
       "      <td>BF</td>\n",
       "      <td>BFA</td>\n",
       "      <td>Burkina Faso</td>\n",
       "      <td>Burkina Faso</td>\n",
       "      <td>Sub-Saharan Africa</td>\n",
       "      <td>Low income</td>\n",
       "    </tr>\n",
       "    <tr>\n",
       "      <th>18</th>\n",
       "      <td>BD</td>\n",
       "      <td>BGD</td>\n",
       "      <td>Bangladesh</td>\n",
       "      <td>People's Republic of Bangladesh</td>\n",
       "      <td>South Asia</td>\n",
       "      <td>Lower middle income</td>\n",
       "    </tr>\n",
       "    <tr>\n",
       "      <th>19</th>\n",
       "      <td>BG</td>\n",
       "      <td>BGR</td>\n",
       "      <td>Bulgaria</td>\n",
       "      <td>Republic of Bulgaria</td>\n",
       "      <td>Europe &amp; Central Asia</td>\n",
       "      <td>Upper middle income</td>\n",
       "    </tr>\n",
       "  </tbody>\n",
       "</table>\n",
       "</div>"
      ],
      "text/plain": [
       "   country_iso_code wb_country_code                  name  \\\n",
       "0                AW             ABW                 Aruba   \n",
       "1                AF             AFG           Afghanistan   \n",
       "2                AO             AGO                Angola   \n",
       "3                AL             ALB               Albania   \n",
       "4                AD             AND               Andorra   \n",
       "5                1A             ARB            Arab World   \n",
       "6                AE             ARE  United Arab Emirates   \n",
       "7                AR             ARG             Argentina   \n",
       "8                AM             ARM               Armenia   \n",
       "9                AS             ASM        American Samoa   \n",
       "10               AG             ATG   Antigua and Barbuda   \n",
       "11               AU             AUS             Australia   \n",
       "12               AT             AUT               Austria   \n",
       "13               AZ             AZE            Azerbaijan   \n",
       "14               BI             BDI               Burundi   \n",
       "15               BE             BEL               Belgium   \n",
       "16               BJ             BEN                 Benin   \n",
       "17               BF             BFA          Burkina Faso   \n",
       "18               BD             BGD            Bangladesh   \n",
       "19               BG             BGR              Bulgaria   \n",
       "\n",
       "                          long_name                      region  \\\n",
       "0                             Aruba   Latin America & Caribbean   \n",
       "1      Islamic State of Afghanistan                  South Asia   \n",
       "2       People's Republic of Angola          Sub-Saharan Africa   \n",
       "3               Republic of Albania       Europe & Central Asia   \n",
       "4           Principality of Andorra       Europe & Central Asia   \n",
       "5                        Arab World                        None   \n",
       "6              United Arab Emirates  Middle East & North Africa   \n",
       "7                Argentine Republic                        None   \n",
       "8               Republic of Armenia       Europe & Central Asia   \n",
       "9                    American Samoa         East Asia & Pacific   \n",
       "10              Antigua and Barbuda   Latin America & Caribbean   \n",
       "11        Commonwealth of Australia         East Asia & Pacific   \n",
       "12              Republic of Austria       Europe & Central Asia   \n",
       "13           Republic of Azerbaijan       Europe & Central Asia   \n",
       "14              Republic of Burundi          Sub-Saharan Africa   \n",
       "15               Kingdom of Belgium       Europe & Central Asia   \n",
       "16                Republic of Benin          Sub-Saharan Africa   \n",
       "17                     Burkina Faso          Sub-Saharan Africa   \n",
       "18  People's Republic of Bangladesh                  South Asia   \n",
       "19             Republic of Bulgaria       Europe & Central Asia   \n",
       "\n",
       "           income_group  \n",
       "0           High income  \n",
       "1            Low income  \n",
       "2   Lower middle income  \n",
       "3   Upper middle income  \n",
       "4           High income  \n",
       "5                  None  \n",
       "6           High income  \n",
       "7                  None  \n",
       "8   Lower middle income  \n",
       "9   Upper middle income  \n",
       "10          High income  \n",
       "11          High income  \n",
       "12          High income  \n",
       "13  Upper middle income  \n",
       "14           Low income  \n",
       "15          High income  \n",
       "16           Low income  \n",
       "17           Low income  \n",
       "18  Lower middle income  \n",
       "19  Upper middle income  "
      ]
     },
     "metadata": {},
     "output_type": "display_data"
    }
   ],
   "source": [
    "transformQuery = \"\"\"\n",
    "select \n",
    "    country_iso_code\n",
    "    , wb_country_code\n",
    "    , country_name as name\n",
    "    , country_long_name as long_name\n",
    "    , region\n",
    "    , income_group\n",
    "from \n",
    "    country\n",
    "\"\"\"\n",
    "\n",
    "showDF(spark.sql(transformQuery))"
   ]
  },
  {
   "cell_type": "markdown",
   "metadata": {},
   "source": [
    "### Step 5 - Check the data quality"
   ]
  },
  {
   "cell_type": "markdown",
   "metadata": {},
   "source": [
    "##### Do all countries have 2 character country_iso_codes ?\n",
    "\n",
    "We will use some sql functions supported in PySpark for this exercise.  You can find a complete list of functions supported [here](http://spark.apache.org/docs/2.1.1/api/python/pyspark.sql.html#module-pyspark.sql.functions) ."
   ]
  },
  {
   "cell_type": "code",
   "execution_count": 11,
   "metadata": {},
   "outputs": [
    {
     "data": {
      "text/html": [
       "<div>\n",
       "<style scoped>\n",
       "    .dataframe tbody tr th:only-of-type {\n",
       "        vertical-align: middle;\n",
       "    }\n",
       "\n",
       "    .dataframe tbody tr th {\n",
       "        vertical-align: top;\n",
       "    }\n",
       "\n",
       "    .dataframe thead th {\n",
       "        text-align: right;\n",
       "    }\n",
       "</style>\n",
       "<table border=\"1\" class=\"dataframe\">\n",
       "  <thead>\n",
       "    <tr style=\"text-align: right;\">\n",
       "      <th></th>\n",
       "      <th>column_length</th>\n",
       "      <th>cnt</th>\n",
       "    </tr>\n",
       "  </thead>\n",
       "  <tbody>\n",
       "    <tr>\n",
       "      <th>0</th>\n",
       "      <td>2</td>\n",
       "      <td>262</td>\n",
       "    </tr>\n",
       "  </tbody>\n",
       "</table>\n",
       "</div>"
      ],
      "text/plain": [
       "   column_length  cnt\n",
       "0              2  262"
      ]
     },
     "metadata": {},
     "output_type": "display_data"
    }
   ],
   "source": [
    "showDF( \\\n",
    "    countryDim \\\n",
    "       .select(col(\"country_iso_code\"), \\\n",
    "               length(col(\"country_iso_code\")).alias(\"column_length\")) \\\n",
    "       .groupBy(\"column_length\") \\\n",
    "       .agg(count(\"*\").alias(\"cnt\")) \\\n",
    "       .filter(\"cnt > 1\") \\\n",
    ")"
   ]
  },
  {
   "cell_type": "code",
   "execution_count": 12,
   "metadata": {},
   "outputs": [
    {
     "data": {
      "text/html": [
       "<div>\n",
       "<style scoped>\n",
       "    .dataframe tbody tr th:only-of-type {\n",
       "        vertical-align: middle;\n",
       "    }\n",
       "\n",
       "    .dataframe tbody tr th {\n",
       "        vertical-align: top;\n",
       "    }\n",
       "\n",
       "    .dataframe thead th {\n",
       "        text-align: right;\n",
       "    }\n",
       "</style>\n",
       "<table border=\"1\" class=\"dataframe\">\n",
       "  <thead>\n",
       "    <tr style=\"text-align: right;\">\n",
       "      <th></th>\n",
       "      <th>column_length</th>\n",
       "      <th>cnt</th>\n",
       "    </tr>\n",
       "  </thead>\n",
       "  <tbody>\n",
       "    <tr>\n",
       "      <th>0</th>\n",
       "      <td>2</td>\n",
       "      <td>262</td>\n",
       "    </tr>\n",
       "  </tbody>\n",
       "</table>\n",
       "</div>"
      ],
      "text/plain": [
       "   column_length  cnt\n",
       "0              2  262"
      ]
     },
     "metadata": {},
     "output_type": "display_data"
    }
   ],
   "source": [
    "#You can also do this in SQL\n",
    "countryCodeLengthQuery = \"\"\"\n",
    "select \n",
    "    length(country_iso_code) as column_length\n",
    "    , count(1) as cnt\n",
    "from \n",
    "    country\n",
    "group by \n",
    "    length(country_iso_code)\n",
    "having \n",
    "    count(1) > 1\n",
    "\"\"\"\n",
    "\n",
    "showDF(spark.sql(countryCodeLengthQuery))"
   ]
  },
  {
   "cell_type": "markdown",
   "metadata": {},
   "source": [
    "## Quick Exercise\n",
    "Do you notice a difference in the counts returned by the Quality check for the 2-character country_iso_code vs the original row count for the WDICountry.csv ?"
   ]
  },
  {
   "cell_type": "code",
   "execution_count": 13,
   "metadata": {},
   "outputs": [],
   "source": [
    "# Paste your solution here\n",
    "# Yes 262 vs 263"
   ]
  },
  {
   "cell_type": "markdown",
   "metadata": {},
   "source": [
    "##### Do we have duplicate records for any of the key columns ?"
   ]
  },
  {
   "cell_type": "code",
   "execution_count": 14,
   "metadata": {},
   "outputs": [
    {
     "data": {
      "text/html": [
       "<div>\n",
       "<style scoped>\n",
       "    .dataframe tbody tr th:only-of-type {\n",
       "        vertical-align: middle;\n",
       "    }\n",
       "\n",
       "    .dataframe tbody tr th {\n",
       "        vertical-align: top;\n",
       "    }\n",
       "\n",
       "    .dataframe thead th {\n",
       "        text-align: right;\n",
       "    }\n",
       "</style>\n",
       "<table border=\"1\" class=\"dataframe\">\n",
       "  <thead>\n",
       "    <tr style=\"text-align: right;\">\n",
       "      <th></th>\n",
       "      <th>country_iso_code</th>\n",
       "      <th>cnt</th>\n",
       "    </tr>\n",
       "  </thead>\n",
       "  <tbody>\n",
       "  </tbody>\n",
       "</table>\n",
       "</div>"
      ],
      "text/plain": [
       "Empty DataFrame\n",
       "Columns: [country_iso_code, cnt]\n",
       "Index: []"
      ]
     },
     "metadata": {},
     "output_type": "display_data"
    },
    {
     "data": {
      "text/html": [
       "<div>\n",
       "<style scoped>\n",
       "    .dataframe tbody tr th:only-of-type {\n",
       "        vertical-align: middle;\n",
       "    }\n",
       "\n",
       "    .dataframe tbody tr th {\n",
       "        vertical-align: top;\n",
       "    }\n",
       "\n",
       "    .dataframe thead th {\n",
       "        text-align: right;\n",
       "    }\n",
       "</style>\n",
       "<table border=\"1\" class=\"dataframe\">\n",
       "  <thead>\n",
       "    <tr style=\"text-align: right;\">\n",
       "      <th></th>\n",
       "      <th>wb_country_code</th>\n",
       "      <th>cnt</th>\n",
       "    </tr>\n",
       "  </thead>\n",
       "  <tbody>\n",
       "  </tbody>\n",
       "</table>\n",
       "</div>"
      ],
      "text/plain": [
       "Empty DataFrame\n",
       "Columns: [wb_country_code, cnt]\n",
       "Index: []"
      ]
     },
     "metadata": {},
     "output_type": "display_data"
    },
    {
     "data": {
      "text/html": [
       "<div>\n",
       "<style scoped>\n",
       "    .dataframe tbody tr th:only-of-type {\n",
       "        vertical-align: middle;\n",
       "    }\n",
       "\n",
       "    .dataframe tbody tr th {\n",
       "        vertical-align: top;\n",
       "    }\n",
       "\n",
       "    .dataframe thead th {\n",
       "        text-align: right;\n",
       "    }\n",
       "</style>\n",
       "<table border=\"1\" class=\"dataframe\">\n",
       "  <thead>\n",
       "    <tr style=\"text-align: right;\">\n",
       "      <th></th>\n",
       "      <th>country_name</th>\n",
       "      <th>cnt</th>\n",
       "    </tr>\n",
       "  </thead>\n",
       "  <tbody>\n",
       "  </tbody>\n",
       "</table>\n",
       "</div>"
      ],
      "text/plain": [
       "Empty DataFrame\n",
       "Columns: [country_name, cnt]\n",
       "Index: []"
      ]
     },
     "metadata": {},
     "output_type": "display_data"
    }
   ],
   "source": [
    "showDF(countryDim.groupBy(\"country_iso_code\").agg(count(\"*\").alias(\"cnt\")).filter(\"cnt > 1\"))\n",
    "\n",
    "showDF(countryDim.groupBy(\"wb_country_code\").agg(count(\"*\").alias(\"cnt\")).filter(\"cnt > 1\"))\n",
    "\n",
    "showDF(countryDim.groupBy(\"country_name\").agg(count(\"*\").alias(\"cnt\")).filter(\"cnt > 1\"))"
   ]
  },
  {
   "cell_type": "markdown",
   "metadata": {},
   "source": [
    "### Step 6 - Fix any issues with data quality"
   ]
  },
  {
   "cell_type": "code",
   "execution_count": 15,
   "metadata": {},
   "outputs": [
    {
     "data": {
      "text/html": [
       "<div>\n",
       "<style scoped>\n",
       "    .dataframe tbody tr th:only-of-type {\n",
       "        vertical-align: middle;\n",
       "    }\n",
       "\n",
       "    .dataframe tbody tr th {\n",
       "        vertical-align: top;\n",
       "    }\n",
       "\n",
       "    .dataframe thead th {\n",
       "        text-align: right;\n",
       "    }\n",
       "</style>\n",
       "<table border=\"1\" class=\"dataframe\">\n",
       "  <thead>\n",
       "    <tr style=\"text-align: right;\">\n",
       "      <th></th>\n",
       "      <th>country_iso_code</th>\n",
       "      <th>wb_country_code</th>\n",
       "      <th>country_name</th>\n",
       "      <th>country_long_name</th>\n",
       "      <th>region</th>\n",
       "      <th>income_group</th>\n",
       "    </tr>\n",
       "  </thead>\n",
       "  <tbody>\n",
       "    <tr>\n",
       "      <th>0</th>\n",
       "      <td>AW</td>\n",
       "      <td>ABW</td>\n",
       "      <td>Aruba</td>\n",
       "      <td>Aruba</td>\n",
       "      <td>Latin America &amp; Caribbean</td>\n",
       "      <td>High income</td>\n",
       "    </tr>\n",
       "    <tr>\n",
       "      <th>1</th>\n",
       "      <td>AF</td>\n",
       "      <td>AFG</td>\n",
       "      <td>Afghanistan</td>\n",
       "      <td>Islamic State of Afghanistan</td>\n",
       "      <td>South Asia</td>\n",
       "      <td>Low income</td>\n",
       "    </tr>\n",
       "    <tr>\n",
       "      <th>2</th>\n",
       "      <td>AO</td>\n",
       "      <td>AGO</td>\n",
       "      <td>Angola</td>\n",
       "      <td>People's Republic of Angola</td>\n",
       "      <td>Sub-Saharan Africa</td>\n",
       "      <td>Lower middle income</td>\n",
       "    </tr>\n",
       "    <tr>\n",
       "      <th>3</th>\n",
       "      <td>AL</td>\n",
       "      <td>ALB</td>\n",
       "      <td>Albania</td>\n",
       "      <td>Republic of Albania</td>\n",
       "      <td>Europe &amp; Central Asia</td>\n",
       "      <td>Upper middle income</td>\n",
       "    </tr>\n",
       "    <tr>\n",
       "      <th>4</th>\n",
       "      <td>AD</td>\n",
       "      <td>AND</td>\n",
       "      <td>Andorra</td>\n",
       "      <td>Principality of Andorra</td>\n",
       "      <td>Europe &amp; Central Asia</td>\n",
       "      <td>High income</td>\n",
       "    </tr>\n",
       "    <tr>\n",
       "      <th>5</th>\n",
       "      <td>1A</td>\n",
       "      <td>ARB</td>\n",
       "      <td>Arab World</td>\n",
       "      <td>Arab World</td>\n",
       "      <td>None</td>\n",
       "      <td>None</td>\n",
       "    </tr>\n",
       "    <tr>\n",
       "      <th>6</th>\n",
       "      <td>AE</td>\n",
       "      <td>ARE</td>\n",
       "      <td>United Arab Emirates</td>\n",
       "      <td>United Arab Emirates</td>\n",
       "      <td>Middle East &amp; North Africa</td>\n",
       "      <td>High income</td>\n",
       "    </tr>\n",
       "    <tr>\n",
       "      <th>7</th>\n",
       "      <td>AR</td>\n",
       "      <td>ARG</td>\n",
       "      <td>Argentina</td>\n",
       "      <td>Argentine Republic</td>\n",
       "      <td>None</td>\n",
       "      <td>None</td>\n",
       "    </tr>\n",
       "    <tr>\n",
       "      <th>8</th>\n",
       "      <td>AM</td>\n",
       "      <td>ARM</td>\n",
       "      <td>Armenia</td>\n",
       "      <td>Republic of Armenia</td>\n",
       "      <td>Europe &amp; Central Asia</td>\n",
       "      <td>Lower middle income</td>\n",
       "    </tr>\n",
       "    <tr>\n",
       "      <th>9</th>\n",
       "      <td>AS</td>\n",
       "      <td>ASM</td>\n",
       "      <td>American Samoa</td>\n",
       "      <td>American Samoa</td>\n",
       "      <td>East Asia &amp; Pacific</td>\n",
       "      <td>Upper middle income</td>\n",
       "    </tr>\n",
       "    <tr>\n",
       "      <th>10</th>\n",
       "      <td>AG</td>\n",
       "      <td>ATG</td>\n",
       "      <td>Antigua and Barbuda</td>\n",
       "      <td>Antigua and Barbuda</td>\n",
       "      <td>Latin America &amp; Caribbean</td>\n",
       "      <td>High income</td>\n",
       "    </tr>\n",
       "    <tr>\n",
       "      <th>11</th>\n",
       "      <td>AU</td>\n",
       "      <td>AUS</td>\n",
       "      <td>Australia</td>\n",
       "      <td>Commonwealth of Australia</td>\n",
       "      <td>East Asia &amp; Pacific</td>\n",
       "      <td>High income</td>\n",
       "    </tr>\n",
       "    <tr>\n",
       "      <th>12</th>\n",
       "      <td>AT</td>\n",
       "      <td>AUT</td>\n",
       "      <td>Austria</td>\n",
       "      <td>Republic of Austria</td>\n",
       "      <td>Europe &amp; Central Asia</td>\n",
       "      <td>High income</td>\n",
       "    </tr>\n",
       "    <tr>\n",
       "      <th>13</th>\n",
       "      <td>AZ</td>\n",
       "      <td>AZE</td>\n",
       "      <td>Azerbaijan</td>\n",
       "      <td>Republic of Azerbaijan</td>\n",
       "      <td>Europe &amp; Central Asia</td>\n",
       "      <td>Upper middle income</td>\n",
       "    </tr>\n",
       "    <tr>\n",
       "      <th>14</th>\n",
       "      <td>BI</td>\n",
       "      <td>BDI</td>\n",
       "      <td>Burundi</td>\n",
       "      <td>Republic of Burundi</td>\n",
       "      <td>Sub-Saharan Africa</td>\n",
       "      <td>Low income</td>\n",
       "    </tr>\n",
       "    <tr>\n",
       "      <th>15</th>\n",
       "      <td>BE</td>\n",
       "      <td>BEL</td>\n",
       "      <td>Belgium</td>\n",
       "      <td>Kingdom of Belgium</td>\n",
       "      <td>Europe &amp; Central Asia</td>\n",
       "      <td>High income</td>\n",
       "    </tr>\n",
       "    <tr>\n",
       "      <th>16</th>\n",
       "      <td>BJ</td>\n",
       "      <td>BEN</td>\n",
       "      <td>Benin</td>\n",
       "      <td>Republic of Benin</td>\n",
       "      <td>Sub-Saharan Africa</td>\n",
       "      <td>Low income</td>\n",
       "    </tr>\n",
       "    <tr>\n",
       "      <th>17</th>\n",
       "      <td>BF</td>\n",
       "      <td>BFA</td>\n",
       "      <td>Burkina Faso</td>\n",
       "      <td>Burkina Faso</td>\n",
       "      <td>Sub-Saharan Africa</td>\n",
       "      <td>Low income</td>\n",
       "    </tr>\n",
       "    <tr>\n",
       "      <th>18</th>\n",
       "      <td>BD</td>\n",
       "      <td>BGD</td>\n",
       "      <td>Bangladesh</td>\n",
       "      <td>People's Republic of Bangladesh</td>\n",
       "      <td>South Asia</td>\n",
       "      <td>Lower middle income</td>\n",
       "    </tr>\n",
       "    <tr>\n",
       "      <th>19</th>\n",
       "      <td>BG</td>\n",
       "      <td>BGR</td>\n",
       "      <td>Bulgaria</td>\n",
       "      <td>Republic of Bulgaria</td>\n",
       "      <td>Europe &amp; Central Asia</td>\n",
       "      <td>Upper middle income</td>\n",
       "    </tr>\n",
       "  </tbody>\n",
       "</table>\n",
       "</div>"
      ],
      "text/plain": [
       "   country_iso_code wb_country_code          country_name  \\\n",
       "0                AW             ABW                 Aruba   \n",
       "1                AF             AFG           Afghanistan   \n",
       "2                AO             AGO                Angola   \n",
       "3                AL             ALB               Albania   \n",
       "4                AD             AND               Andorra   \n",
       "5                1A             ARB            Arab World   \n",
       "6                AE             ARE  United Arab Emirates   \n",
       "7                AR             ARG             Argentina   \n",
       "8                AM             ARM               Armenia   \n",
       "9                AS             ASM        American Samoa   \n",
       "10               AG             ATG   Antigua and Barbuda   \n",
       "11               AU             AUS             Australia   \n",
       "12               AT             AUT               Austria   \n",
       "13               AZ             AZE            Azerbaijan   \n",
       "14               BI             BDI               Burundi   \n",
       "15               BE             BEL               Belgium   \n",
       "16               BJ             BEN                 Benin   \n",
       "17               BF             BFA          Burkina Faso   \n",
       "18               BD             BGD            Bangladesh   \n",
       "19               BG             BGR              Bulgaria   \n",
       "\n",
       "                  country_long_name                      region  \\\n",
       "0                             Aruba   Latin America & Caribbean   \n",
       "1      Islamic State of Afghanistan                  South Asia   \n",
       "2       People's Republic of Angola          Sub-Saharan Africa   \n",
       "3               Republic of Albania       Europe & Central Asia   \n",
       "4           Principality of Andorra       Europe & Central Asia   \n",
       "5                        Arab World                        None   \n",
       "6              United Arab Emirates  Middle East & North Africa   \n",
       "7                Argentine Republic                        None   \n",
       "8               Republic of Armenia       Europe & Central Asia   \n",
       "9                    American Samoa         East Asia & Pacific   \n",
       "10              Antigua and Barbuda   Latin America & Caribbean   \n",
       "11        Commonwealth of Australia         East Asia & Pacific   \n",
       "12              Republic of Austria       Europe & Central Asia   \n",
       "13           Republic of Azerbaijan       Europe & Central Asia   \n",
       "14              Republic of Burundi          Sub-Saharan Africa   \n",
       "15               Kingdom of Belgium       Europe & Central Asia   \n",
       "16                Republic of Benin          Sub-Saharan Africa   \n",
       "17                     Burkina Faso          Sub-Saharan Africa   \n",
       "18  People's Republic of Bangladesh                  South Asia   \n",
       "19             Republic of Bulgaria       Europe & Central Asia   \n",
       "\n",
       "           income_group  \n",
       "0           High income  \n",
       "1            Low income  \n",
       "2   Lower middle income  \n",
       "3   Upper middle income  \n",
       "4           High income  \n",
       "5                  None  \n",
       "6           High income  \n",
       "7                  None  \n",
       "8   Lower middle income  \n",
       "9   Upper middle income  \n",
       "10          High income  \n",
       "11          High income  \n",
       "12          High income  \n",
       "13  Upper middle income  \n",
       "14           Low income  \n",
       "15          High income  \n",
       "16           Low income  \n",
       "17           Low income  \n",
       "18  Lower middle income  \n",
       "19  Upper middle income  "
      ]
     },
     "metadata": {},
     "output_type": "display_data"
    }
   ],
   "source": [
    "countryDimFinal = countryDim.filter(\"country_iso_code is not null\")\n",
    "\n",
    "showDF(countryDimFinal)"
   ]
  },
  {
   "cell_type": "code",
   "execution_count": 16,
   "metadata": {},
   "outputs": [
    {
     "data": {
      "text/plain": [
       "262"
      ]
     },
     "execution_count": 16,
     "metadata": {},
     "output_type": "execute_result"
    }
   ],
   "source": [
    "countryDimFinal.count()"
   ]
  },
  {
   "cell_type": "markdown",
   "metadata": {},
   "source": [
    "### Step 7 - Write the data to the destination"
   ]
  },
  {
   "cell_type": "code",
   "execution_count": 17,
   "metadata": {},
   "outputs": [],
   "source": [
    "# Here we are going to write the country dimension to an output csv file\n",
    "countryDimFinal \\\n",
    "    .coalesce(1) \\\n",
    "    .write.csv('../output/CountryDim', mode='overwrite', header='true')"
   ]
  },
  {
   "cell_type": "markdown",
   "metadata": {},
   "source": [
    "### Step 8 - Check if the output was written out as expected"
   ]
  },
  {
   "cell_type": "code",
   "execution_count": 18,
   "metadata": {},
   "outputs": [
    {
     "name": "stdout",
     "output_type": "stream",
     "text": [
      "country_iso_code,wb_country_code,country_name,country_long_name,region,income_group\n",
      "AW,ABW,Aruba,Aruba,Latin America & Caribbean,High income\n",
      "AF,AFG,Afghanistan,Islamic State of Afghanistan,South Asia,Low income\n",
      "AO,AGO,Angola,People's Republic of Angola,Sub-Saharan Africa,Lower middle income\n",
      "AL,ALB,Albania,Republic of Albania,Europe & Central Asia,Upper middle income\n",
      "AD,AND,Andorra,Principality of Andorra,Europe & Central Asia,High income\n",
      "1A,ARB,Arab World,Arab World,\"\",\"\"\n",
      "AE,ARE,United Arab Emirates,United Arab Emirates,Middle East & North Africa,High income\n",
      "AR,ARG,Argentina,Argentine Republic,\"\",\"\"\n",
      "AM,ARM,Armenia,Republic of Armenia,Europe & Central Asia,Lower middle income\n"
     ]
    }
   ],
   "source": [
    "%%bash\n",
    "cat ../output/CountryDim/*csv | head"
   ]
  },
  {
   "cell_type": "markdown",
   "metadata": {},
   "source": [
    "## Exercise\n",
    "\n",
    "#### Transform the Series Dataset and make it available in the dataframe seriesDim\n",
    "- Filter only for series that have Annual periodicity\n",
    "- Get the following columns and rename the selected columns to prepare further processing  \n",
    "\n",
    "| Name in CSV | Column Name |\n",
    "| ------------- |:-------------:|\n",
    "| Series Code | indicator_code |\n",
    "| Indicator Name | indicator_name |\n",
    "| Periodicity | periodicity |\n",
    "| Aggregation Method | aggregation_method |\n",
    "\n",
    "\n",
    "##### How many series do you end up with ?"
   ]
  },
  {
   "cell_type": "code",
   "execution_count": null,
   "metadata": {},
   "outputs": [],
   "source": [
    "#Your solution here\n",
    "#seriesDim = ??? "
   ]
  },
  {
   "cell_type": "markdown",
   "metadata": {},
   "source": [
    "#### What data quality checks were you able to perform ?"
   ]
  },
  {
   "cell_type": "markdown",
   "metadata": {},
   "source": [
    "- Are there any duplicate codes ?\n",
    "- Are all indicator_codes following the same pattern ?\n",
    "- Is the case on columns consistent ? "
   ]
  },
  {
   "cell_type": "code",
   "execution_count": null,
   "metadata": {},
   "outputs": [],
   "source": [
    "#Your solution here\n"
   ]
  },
  {
   "cell_type": "markdown",
   "metadata": {},
   "source": [
    "### Complex Transformations\n",
    "##### Problem Statement\n",
    "We want to measure the cellular and broadband penetration in comparison to the population demographics for every country.  It'll also be helpful to get some insights on annual global aggregates."
   ]
  },
  {
   "cell_type": "markdown",
   "metadata": {},
   "source": [
    "###### Our dataset has multiple types of metrics.  The only ones that we care about are simple aggregates."
   ]
  },
  {
   "cell_type": "code",
   "execution_count": null,
   "metadata": {},
   "outputs": [],
   "source": [
    "simpleAggIndicators = seriesDim \\\n",
    "    .filter(\"lower(aggregation_method) = 'sum'\") \\\n",
    "    .select(\"indicator_code\", \"indicator_name\") \\\n",
    "    .orderBy(\"indicator_code\")\n",
    "\n",
    "showDF(simpleAggIndicators, limitRows = 500, truncate = False)"
   ]
  },
  {
   "cell_type": "markdown",
   "metadata": {},
   "source": [
    "##### Only keep the indicators that are relevant to requirements i.e. Population indicators and Cellular and Broadband penetration"
   ]
  },
  {
   "cell_type": "code",
   "execution_count": null,
   "metadata": {},
   "outputs": [],
   "source": [
    "targetIndicators = simpleAggIndicators \\\n",
    "    .filter(\"lower(indicator_name) like '%population%total%' \" + \n",
    "            \" or lower(indicator_name) like '%cellular%' \" +\n",
    "            \" or lower(indicator_name) like '%broadband%'\") \\\n",
    "    .filter(\"lower(indicator_name) not like '%refugee%'\")\n",
    "\n",
    "showDF(targetIndicators)"
   ]
  },
  {
   "cell_type": "markdown",
   "metadata": {},
   "source": [
    "##### Now that we have identified the various indicators of interest, we can continue with getting the metrics for these indicators"
   ]
  },
  {
   "cell_type": "code",
   "execution_count": null,
   "metadata": {},
   "outputs": [],
   "source": [
    "# Keep the columns that are relevant for further transformations\n",
    "indicatorsData = indicators \\\n",
    "    .withColumnRenamed(\"Indicator Code\", \"indicator_code\") \\\n",
    "    .withColumnRenamed(\"Country Code\", \"wb_country_code\") \\\n",
    "    .drop(\"Indicator Name\") \\\n",
    "    .drop(\"Country Name\") \\\n",
    "    .drop(\"_c62\")"
   ]
  },
  {
   "cell_type": "code",
   "execution_count": null,
   "metadata": {},
   "outputs": [],
   "source": [
    "#Keep only the indicators that we care about\n",
    "targetIndicatorsData = indicatorsData.join(targetIndicators \\\n",
    "                                         , indicatorsData.indicator_code == targetIndicators.indicator_code) \\\n",
    "    .drop(targetIndicators.indicator_code)"
   ]
  },
  {
   "cell_type": "code",
   "execution_count": null,
   "metadata": {},
   "outputs": [],
   "source": [
    "showDF(targetIndicatorsData)"
   ]
  },
  {
   "cell_type": "markdown",
   "metadata": {},
   "source": [
    "#### The output that we see currently isn't the most ideal from a modelling perspective.  \n",
    "A well modeled dataset, should allow for data to be easily augmented.  e.g. instead of having a column for each year we would ideally prefer a row for each year to be able to add more rows in the future similar to the output of the following code block."
   ]
  },
  {
   "cell_type": "code",
   "execution_count": null,
   "metadata": {},
   "outputs": [],
   "source": [
    "indicatorsSample = targetIndicatorsData \\\n",
    "    .select(col(\"wb_country_code\")\n",
    "            , col(\"indicator_code\")\n",
    "            , lit(\"1960\").alias(\"year\")\n",
    "            , col(\"1960\").alias(\"indicator_value\")) \\\n",
    "    .filter(\"indicator_value >= 0.0\")\n",
    "\n",
    "showDF(indicatorsSample)"
   ]
  },
  {
   "cell_type": "markdown",
   "metadata": {},
   "source": [
    "##### Let us start by getting the list of years that we have metrics for"
   ]
  },
  {
   "cell_type": "code",
   "execution_count": null,
   "metadata": {},
   "outputs": [],
   "source": [
    "yearList = [x for x in targetIndicatorsData.schema.names \\\n",
    "             if x != 'wb_country_code' and x != 'indicator_code' and x != 'indicator_name'] \n",
    "\n",
    "print(yearList)"
   ]
  },
  {
   "cell_type": "code",
   "execution_count": null,
   "metadata": {},
   "outputs": [],
   "source": [
    "#Cheat for creating a dataframe with no rows \n",
    "indicatorsDF = indicatorsSample.filter('1 = 0')\n",
    "\n",
    "#Iterate through the list of years and store the rows in the DataFrame we created above\n",
    "for indicatorYear in yearList:\n",
    "    print(\"Processing indicators for \" + indicatorYear)\n",
    "    yearIndicatorDF = targetIndicatorsData \\\n",
    "        .select(col(\"wb_country_code\")\n",
    "                , col(\"indicator_code\")\n",
    "                , lit(indicatorYear).alias(\"year\")\n",
    "                , col(indicatorYear).alias(\"indicator_value\")) \\\n",
    "        .filter(\"indicator_value >= 0\")\n",
    "    indicatorsDF = indicatorsDF.union(yearIndicatorDF)    "
   ]
  },
  {
   "cell_type": "markdown",
   "metadata": {},
   "source": [
    "#### Let's cache the dataset to iterate over it"
   ]
  },
  {
   "cell_type": "code",
   "execution_count": null,
   "metadata": {},
   "outputs": [],
   "source": [
    "# You can iterate over a dataframe that is already computed by caching it onces and using it repeatedly\n",
    "indicatorsDF.cache()\n",
    "\n",
    "#Force the data to be cached\n",
    "indicatorsDF.count()"
   ]
  },
  {
   "cell_type": "code",
   "execution_count": null,
   "metadata": {},
   "outputs": [],
   "source": [
    "#Check the indicator counts per year\n",
    "#showDF(indicatorsDF.groupBy('year').agg(count(\"*\")).orderBy(\"year\"), limitRows=100)"
   ]
  },
  {
   "cell_type": "markdown",
   "metadata": {},
   "source": [
    "#### Getting yearly indicator totals"
   ]
  },
  {
   "cell_type": "code",
   "execution_count": null,
   "metadata": {},
   "outputs": [],
   "source": [
    "yearPivot = indicatorsDF.groupBy('year').pivot('indicator_code').sum('indicator_value') "
   ]
  },
  {
   "cell_type": "code",
   "execution_count": null,
   "metadata": {},
   "outputs": [],
   "source": [
    "showDF(yearPivot.orderBy('year'))"
   ]
  },
  {
   "cell_type": "code",
   "execution_count": null,
   "metadata": {},
   "outputs": [],
   "source": [
    "yearPivot.printSchema()"
   ]
  },
  {
   "cell_type": "code",
   "execution_count": null,
   "metadata": {},
   "outputs": [],
   "source": [
    "yearPivotDF = yearPivot.orderBy('year') \\\n",
    "    .withColumnRenamed('IT.CEL.SETS', 'cellular_subscriptions') \\\n",
    "    .withColumnRenamed('IT.NET.BBND', 'broadband_subscriptions') \\\n",
    "    .withColumnRenamed('SP.POP.0014.TO', 'population_age_0_to_14') \\\n",
    "    .withColumnRenamed('SP.POP.1564.TO', 'population_age_15_64') \\\n",
    "    .withColumnRenamed('SP.POP.65UP.TO', 'population_age_65_and_above') \\\n",
    "    .withColumnRenamed('SP.POP.TOTL', 'population')"
   ]
  },
  {
   "cell_type": "markdown",
   "metadata": {},
   "source": [
    "#### Data Quality Checkpoint "
   ]
  },
  {
   "cell_type": "code",
   "execution_count": null,
   "metadata": {},
   "outputs": [],
   "source": [
    "# You can iterate over a dataframe that is already computed by caching it onces and using it repeatedly\n",
    "yearPivotDF.cache()\n",
    "\n",
    "#Forces the data to be cached\n",
    "yearPivotDF.count()"
   ]
  },
  {
   "cell_type": "code",
   "execution_count": null,
   "metadata": {},
   "outputs": [],
   "source": [
    "yearPivotDF.filter('population_age_0_to_14 < 0').count()"
   ]
  },
  {
   "cell_type": "code",
   "execution_count": null,
   "metadata": {},
   "outputs": [],
   "source": [
    "yearPivotDF.filter('population_age_15_64 < 0').count()"
   ]
  },
  {
   "cell_type": "code",
   "execution_count": null,
   "metadata": {},
   "outputs": [],
   "source": [
    "yearPivotDF.filter('population_age_0_to_14 < 0').count()"
   ]
  },
  {
   "cell_type": "code",
   "execution_count": null,
   "metadata": {},
   "outputs": [],
   "source": [
    "yearPivotDF.filter('population_age_65_and_above < 0').count()"
   ]
  },
  {
   "cell_type": "code",
   "execution_count": null,
   "metadata": {},
   "outputs": [],
   "source": [
    "yearPivotDF.filter('population < 0').count()"
   ]
  },
  {
   "cell_type": "code",
   "execution_count": null,
   "metadata": {},
   "outputs": [],
   "source": [
    "yearPivotDF.filter('cellular_subscriptions < 0').count()"
   ]
  },
  {
   "cell_type": "code",
   "execution_count": null,
   "metadata": {},
   "outputs": [],
   "source": [
    "yearPivotDF.filter('broadband_subscriptions < 0').count()"
   ]
  },
  {
   "cell_type": "code",
   "execution_count": null,
   "metadata": {},
   "outputs": [],
   "source": [
    "yearPivotDF.filter('population_age_0_to_14 > population').count()"
   ]
  },
  {
   "cell_type": "code",
   "execution_count": null,
   "metadata": {},
   "outputs": [],
   "source": [
    "yearPivotDF.filter('population_age_15_64 > population').count()"
   ]
  },
  {
   "cell_type": "code",
   "execution_count": null,
   "metadata": {},
   "outputs": [],
   "source": [
    "yearPivotDF.filter('population_age_65_and_above > population').count()"
   ]
  },
  {
   "cell_type": "code",
   "execution_count": null,
   "metadata": {},
   "outputs": [],
   "source": [
    "yearPivotDF.filter('(population_age_0_to_14 + population_age_15_64 + population_age_65_and_above) > population').count()"
   ]
  },
  {
   "cell_type": "code",
   "execution_count": null,
   "metadata": {},
   "outputs": [],
   "source": [
    "#Write the yearly totals to a CSV File\n",
    "yearPivotDF \\\n",
    "    .select(col('year')\n",
    "            , col('population').cast(DecimalType(38, 2))\n",
    "            , col('population_age_0_to_14').cast(DecimalType(38, 2))\n",
    "            , col('population_age_15_64').cast(DecimalType(38, 2))\n",
    "            , col('population_age_65_and_above').cast(DecimalType(38, 2))\n",
    "            , col('broadband_subscriptions').cast(DecimalType(38, 2))\n",
    "            , col('cellular_subscriptions').cast(DecimalType(38, 2))) \\\n",
    "    .coalesce(1) \\\n",
    "    .write.csv('../output/YearlyStats', mode='overwrite', header='true')"
   ]
  },
  {
   "cell_type": "markdown",
   "metadata": {},
   "source": [
    "#### Getting yearly regional totals"
   ]
  },
  {
   "cell_type": "code",
   "execution_count": null,
   "metadata": {},
   "outputs": [],
   "source": [
    "regionalIndicators = indicatorsDF.join(countryDimFinal\n",
    "                                       , indicatorsDF.wb_country_code == countryDim.wb_country_code\n",
    "                                       , \"inner\") \\\n",
    "    .select(countryDim.region\n",
    "            , indicatorsDF.wb_country_code\n",
    "            , indicatorsDF.year\n",
    "            , indicatorsDF.indicator_code\n",
    "            , indicatorsDF.indicator_value)"
   ]
  },
  {
   "cell_type": "code",
   "execution_count": null,
   "metadata": {},
   "outputs": [],
   "source": [
    "showDF(regionalIndicators)"
   ]
  },
  {
   "cell_type": "code",
   "execution_count": null,
   "metadata": {},
   "outputs": [],
   "source": [
    "regionalPivot = regionalIndicators.groupBy('region', 'year').pivot('indicator_code').sum('indicator_value')"
   ]
  },
  {
   "cell_type": "code",
   "execution_count": null,
   "metadata": {},
   "outputs": [],
   "source": [
    "showDF(regionalPivot.orderBy('region', 'year'), limitRows=100)"
   ]
  },
  {
   "cell_type": "code",
   "execution_count": null,
   "metadata": {},
   "outputs": [],
   "source": [
    "#Write the regional-yearly totals to a CSV File\n",
    "regionalPivot.filter('region is not null') \\\n",
    "    .orderBy('region','year') \\\n",
    "    .withColumnRenamed('IT.CEL.SETS', 'cellular_subscriptions') \\\n",
    "    .withColumnRenamed('IT.NET.BBND', 'broadband_subscriptions') \\\n",
    "    .withColumnRenamed('SP.POP.0014.TO', 'population_age_0_to_14') \\\n",
    "    .withColumnRenamed('SP.POP.1564.TO', 'population_age_15_64') \\\n",
    "    .withColumnRenamed('SP.POP.65UP.TO', 'population_age_65_and_above') \\\n",
    "    .withColumnRenamed('SP.POP.TOTL', 'population') \\\n",
    "    .select(col('region')\n",
    "            , col('year')\n",
    "            , col('population').cast(DecimalType(38, 2))\n",
    "            , col('population_age_0_to_14').cast(DecimalType(38, 2))\n",
    "            , col('population_age_15_64').cast(DecimalType(38, 2))\n",
    "            , col('population_age_65_and_above').cast(DecimalType(38, 2))\n",
    "            , col('broadband_subscriptions').cast(DecimalType(38, 2))\n",
    "            , col('cellular_subscriptions').cast(DecimalType(38, 2))) \\\n",
    "    .coalesce(1) \\\n",
    "    .write.csv('../output/RegionalStats', mode='overwrite', header='true')"
   ]
  },
  {
   "cell_type": "markdown",
   "metadata": {},
   "source": [
    "## Short Exercise\n",
    "\n",
    "Becky finds the regional metrics interesting, but she wants to look at these metrics at a country level for each year.  Can you adapt the regional pivot that we computed earlier to get the metrics for each year and country ?"
   ]
  },
  {
   "cell_type": "code",
   "execution_count": null,
   "metadata": {},
   "outputs": [],
   "source": [
    "#Your solution here"
   ]
  },
  {
   "cell_type": "markdown",
   "metadata": {},
   "source": [
    "## Exercise\n",
    "\n",
    "Kat wants to identify the countries that are conducive to start a business.  She thinks that it would suffice to look at the most recent metrics for the following:\n",
    "- Gross National Income (GNI)\n",
    "- Cost of business start-up procedures\n",
    "- Number of days required to start a business\n",
    "- Number of start-up procedures to register a business\n",
    "- GDP\n",
    "- GDP per capita\n",
    "- Business Regulatory Environment\n",
    "- Ease of doing business index (Only available in 2017)\n",
    "\n",
    "Write the data to a csv file.\n",
    "\n",
    "Hint - Start by matching up indicators that might have descriptions matching what Kat is looking for. e.g. <br>\n",
    "`showDF(seriesDim.filter(\"indicator_name like '%GNI%'\").orderBy(\"indicator_code\"), limitRows = 500)`"
   ]
  }
 ],
 "metadata": {
  "celltoolbar": "Raw Cell Format",
  "kernelspec": {
   "display_name": "Python 3",
   "language": "python",
   "name": "python3"
  },
  "language_info": {
   "codemirror_mode": {
    "name": "ipython",
    "version": 3
   },
   "file_extension": ".py",
   "mimetype": "text/x-python",
   "name": "python",
   "nbconvert_exporter": "python",
   "pygments_lexer": "ipython3",
   "version": "3.8.6"
  }
 },
 "nbformat": 4,
 "nbformat_minor": 2
}
